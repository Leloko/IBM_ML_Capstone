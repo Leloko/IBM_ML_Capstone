{
 "cells": [
  {
   "cell_type": "code",
   "execution_count": null,
   "metadata": {},
   "outputs": [],
   "source": [
    "import matplotlib.pyplot as plt\n",
    "\n",
    "# Dictionary of RMSEs\n",
    "data = {'NMF': 1.3016, 'KNN_user': 1.2917, 'Linear regression': 0.6599, 'Lasso regression': 0.6599, 'ANN_embedding': 29}\n",
    "\n",
    "# Extracting keys and values from the dictionary\n",
    "categories = list(data.keys())\n",
    "values = list(data.values())\n",
    "\n",
    "# Creating the bar chart\n",
    "plt.bar(categories, values)\n",
    "\n",
    "# Adding a title and labels\n",
    "plt.title('Bar Chart Example')\n",
    "plt.xlabel('Categories')\n",
    "plt.ylabel('Values')\n",
    "\n",
    "# Displaying the plot\n",
    "plt.show()"
   ]
  }
 ],
 "metadata": {
  "language_info": {
   "name": "python"
  }
 },
 "nbformat": 4,
 "nbformat_minor": 2
}
